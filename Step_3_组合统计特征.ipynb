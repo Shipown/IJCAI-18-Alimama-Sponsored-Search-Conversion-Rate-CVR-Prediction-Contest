{
 "cells": [
  {
   "cell_type": "code",
   "execution_count": null,
   "metadata": {
    "collapsed": true
   },
   "outputs": [],
   "source": [
    "import time\n",
    "import datetime\n",
    "import gc\n",
    "from collections import Counter\n",
    "\n",
    "import pandas as pd\n",
    "import numpy as np"
   ]
  },
  {
   "cell_type": "code",
   "execution_count": null,
   "metadata": {
    "collapsed": true
   },
   "outputs": [],
   "source": [
    "# 读取Step_2处理后的7号数据\n",
    "data = pd.read_csv('../Temp/train_day_7_test_step_2.csv')"
   ]
  },
  {
   "cell_type": "markdown",
   "metadata": {},
   "source": [
    "### 特证组合与统计函数"
   ]
  },
  {
   "cell_type": "markdown",
   "metadata": {},
   "source": [
    "#### 以下四个函数实现的功能说明，以feats=['user_id', 'item_id']为例\n",
    "- count_size()计算某个user看过多少个item，比如某个user看了代号分别为1,2,2,3,3的item，则计算出该user看了5个item;\n",
    "- all_unique_count_size()计算某个user看过的所有item中，有多少个不同的item，上例中只有1,2,3这三个不同的item，故计算出为3；\n",
    "- single_count_size()计算某个user看某个item看了多少次，比如上例中该user看了代号为3的item两次，故该user该item对应的数值为2\n",
    "- count_funcs_compute()把上述三个函数融合起来计算，periods参数指明需要统计的时间段，比如是一天还是一小时等；\n",
    "- 式子df[str(names[j]+'/'+names[0])] = df[names[j]] / df[names[0]]用来计算unique个数占总个数的比例,在上面的例子中该比例分别为3/5和2/5"
   ]
  },
  {
   "cell_type": "code",
   "execution_count": null,
   "metadata": {
    "collapsed": true
   },
   "outputs": [],
   "source": [
    "# feats为要组合的特证\n",
    "# df为输入的DataFrame数据\n",
    "def count_size(feats, df):\n",
    "    name = '_'.join(feat for feat in feats) + '_size'\n",
    "    temp = pd.DataFrame(data[feats].groupby(feats[:-1])[feats[-1]].size()).rename(columns={feats[-1]:name}).reset_index()\n",
    "    df = pd.merge(df, temp, how='left', on=feats[:-1])\n",
    "    return df, name\n",
    "\n",
    "def all_unique_count_size(feats, df):\n",
    "    name = '_'.join(feat for feat in feats) + '_all_unique_size'\n",
    "    temp = pd.DataFrame(df[feats].groupby(feats[:-1]).nunique()[feats[-1]]).rename(columns={feats[-1]:name}).reset_index()\n",
    "    df = pd.merge(df, temp, how='left', on=feats[:-1])\n",
    "    return df, name\n",
    "\n",
    "def single_count_size(feats, df):\n",
    "    name = '_'.join(feat for feat in feats) + '_single_size'\n",
    "    temp = pd.DataFrame(data[feats].groupby(feats).size()).rename(columns={0:name}).reset_index()\n",
    "    df = pd.merge(df, temp, how='left', on=feats)\n",
    "    return df, name"
   ]
  },
  {
   "cell_type": "code",
   "execution_count": null,
   "metadata": {
    "collapsed": true
   },
   "outputs": [],
   "source": [
    "# 把上面三个函数统一起来，方便计算\n",
    "# funcs为函数名，periods为时间周期，在该时间周期内进行统计，可以是日，时，分，秒\n",
    "# feats为要组合的特证\n",
    "# df为输入的DataFrame数据\n",
    "# 为保证逻辑正确，count_size()函数一定要第一个输入funcs\n",
    "def count_funcs_compute(funcs, periods, feats, df):\n",
    "    for i in range(len(periods)):\n",
    "        print('Start computing in one {0}...'.format(periods[i]))\n",
    "        period = periods[:i+1]\n",
    "        period.extend(feats)\n",
    "        names = []\n",
    "        for func in funcs:\n",
    "            df, name = func(period, df)\n",
    "            names.append(name)\n",
    "        for j in range(1, len(names)):\n",
    "            df[str(names[j]+'/'+names[0])] = df[names[j]] / df[names[0]] \n",
    "        print('Computing in one {0} is over...'.format(periods[i]))\n",
    "    return df"
   ]
  },
  {
   "cell_type": "markdown",
   "metadata": {},
   "source": [
    "### 进行特征组合与统计"
   ]
  },
  {
   "cell_type": "code",
   "execution_count": null,
   "metadata": {
    "collapsed": true
   },
   "outputs": [],
   "source": [
    "# 需要进行组合与组合的特征\n",
    "feats_list = [\n",
    "    ['user_id'],\n",
    "    ['item_id'],\n",
    "    ['user_id', 'item_id'],\n",
    "    ['shop_id', 'item_id'],\n",
    "    ['user_id', 'shop_id', 'item_id'],\n",
    "    ###################################\n",
    "    ['item_brand_id'],\n",
    "    ['item_city_id'],\n",
    "    ['item_brand_id', 'item_id'],\n",
    "    ['item_city_id', 'item_id'],\n",
    "    ['item_brand_id', 'item_city_id',  'item_id'],\n",
    "    ####################################\n",
    "    ['user_age_level', 'item_id'],\n",
    "    ['user_gender_id', 'item_id'],\n",
    "    ['user_gender_id', 'user_age_level',  'item_id'],\n",
    "    ####################################\n",
    "    ['user_id', 'item_brand_id'],\n",
    "    ['user_id', 'item_city_id'],\n",
    "    ['user_id', 'item_city_id', 'item_brand_id'],\n",
    "    ####################################\n",
    "    ['item_id', 'user_gender_id'],\n",
    "    ['item_id', 'user_occupation_id'],\n",
    "    ['item_id', 'user_gender_id', 'user_occupation_id'],\n",
    "    ####################################\n",
    "    ['item_id', 'context_id'],\n",
    "    ['item_id', 'context_page_id'],\n",
    "    ['item_id', 'context_page_id', 'context_id'],\n",
    "    ####################################\n",
    "    ['item_category_list', 'item_id'],\n",
    "    ['item_property_list', 'item_id'],\n",
    "    ['item_category_list',  'item_property_list', 'item_id'],\n",
    "    ['predict_category_property', 'item_id'],\n",
    "    ['item_category_list', 'predict_category_property', 'item_id'],\n",
    "    ['item_property_list', 'predict_category_property', 'item_id']\n",
    "]"
   ]
  },
  {
   "cell_type": "code",
   "execution_count": null,
   "metadata": {
    "collapsed": true
   },
   "outputs": [],
   "source": [
    "funcs = [count_size, all_unique_count_size, single_count_size]\n",
    "periods = ['day', 'hour', 'minute', 'second']"
   ]
  },
  {
   "cell_type": "code",
   "execution_count": null,
   "metadata": {
    "collapsed": true
   },
   "outputs": [],
   "source": [
    "# 使用上述函数，进行统计计算\n",
    "for num, feats in enumerate(feats_list):\n",
    "    print('######  Features {} begin  ######'.format(num))\n",
    "    data = count_funcs_compute(funcs, periods, feats, data)\n",
    "    print('######  Features {} end  ######'.format(num))"
   ]
  },
  {
   "cell_type": "code",
   "execution_count": null,
   "metadata": {
    "collapsed": true
   },
   "outputs": [],
   "source": [
    "# 保存该步骤处理后的数据\n",
    "data.to_csv('../Temp/train_day_7_test_step_3.csv', index=False)"
   ]
  }
 ],
 "metadata": {
  "kernelspec": {
   "display_name": "Python 3",
   "language": "python",
   "name": "python3"
  },
  "language_info": {
   "codemirror_mode": {
    "name": "ipython",
    "version": 3
   },
   "file_extension": ".py",
   "mimetype": "text/x-python",
   "name": "python",
   "nbconvert_exporter": "python",
   "pygments_lexer": "ipython3",
   "version": "3.6.2"
  }
 },
 "nbformat": 4,
 "nbformat_minor": 2
}
