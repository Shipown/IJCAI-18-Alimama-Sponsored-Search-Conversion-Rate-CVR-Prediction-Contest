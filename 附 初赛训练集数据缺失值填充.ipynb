{
 "cells": [
  {
   "cell_type": "markdown",
   "metadata": {},
   "source": [
    "### 这是初赛刚开始进行数据整理的时候，对初赛的训练集进行缺失值填充的过程，后来发现并无明显提高，就没有再对数据集进行填充，这里仅作参考"
   ]
  },
  {
   "cell_type": "code",
   "execution_count": 1,
   "metadata": {
    "collapsed": true
   },
   "outputs": [],
   "source": [
    "import pandas as pd\n",
    "import numpy as np\n",
    "from sklearn.preprocessing import StandardScaler"
   ]
  },
  {
   "cell_type": "code",
   "execution_count": 2,
   "metadata": {
    "collapsed": true
   },
   "outputs": [],
   "source": [
    "# 读入初赛训练集\n",
    "train = pd.read_table('../Data/round1_ijcai_18_train_20180301.txt', sep=' ')"
   ]
  },
  {
   "cell_type": "code",
   "execution_count": 3,
   "metadata": {},
   "outputs": [
    {
     "data": {
      "text/plain": [
       "478138"
      ]
     },
     "execution_count": 3,
     "metadata": {},
     "output_type": "execute_result"
    }
   ],
   "source": [
    "len(train)"
   ]
  },
  {
   "cell_type": "code",
   "execution_count": 4,
   "metadata": {},
   "outputs": [
    {
     "name": "stdout",
     "output_type": "stream",
     "text": [
      "instance_id 0\n",
      "item_id 0\n",
      "item_category_list 0\n",
      "item_property_list 0\n",
      "item_brand_id 473\n",
      "item_city_id 277\n",
      "item_price_level 0\n",
      "item_sales_level 913\n",
      "item_collected_level 0\n",
      "item_pv_level 0\n",
      "user_id 0\n",
      "user_gender_id 12902\n",
      "user_age_level 964\n",
      "user_occupation_id 964\n",
      "user_star_level 964\n",
      "context_id 0\n",
      "context_timestamp 0\n",
      "context_page_id 0\n",
      "predict_category_property 0\n",
      "shop_id 0\n",
      "shop_review_num_level 0\n",
      "shop_review_positive_rate 7\n",
      "shop_star_level 0\n",
      "shop_score_service 59\n",
      "shop_score_delivery 59\n",
      "shop_score_description 59\n",
      "is_trade 0\n"
     ]
    }
   ],
   "source": [
    "# 看看哪些特征有缺失值，以及每个特征的缺失样本的个数\n",
    "for feature in list(train.columns):\n",
    "    print(feature, (train[feature] == -1).sum())"
   ]
  },
  {
   "cell_type": "markdown",
   "metadata": {},
   "source": [
    "### user_gender_id缺失值处理"
   ]
  },
  {
   "cell_type": "code",
   "execution_count": 5,
   "metadata": {},
   "outputs": [
    {
     "data": {
      "text/plain": [
       "0.213047279237375"
      ]
     },
     "execution_count": 5,
     "metadata": {},
     "output_type": "execute_result"
    }
   ],
   "source": [
    "train['user_gender_id'].sum() / len(train)"
   ]
  },
  {
   "cell_type": "code",
   "execution_count": 6,
   "metadata": {
    "collapsed": true
   },
   "outputs": [],
   "source": [
    "# 填充众数\n",
    "train['user_gender_id'] = train['user_gender_id'].replace({-1: 0})"
   ]
  },
  {
   "cell_type": "code",
   "execution_count": 7,
   "metadata": {},
   "outputs": [
    {
     "data": {
      "text/plain": [
       "0.24003112072246924"
      ]
     },
     "execution_count": 7,
     "metadata": {},
     "output_type": "execute_result"
    }
   ],
   "source": [
    "train['user_gender_id'].sum() / len(train)"
   ]
  },
  {
   "cell_type": "code",
   "execution_count": 8,
   "metadata": {},
   "outputs": [
    {
     "data": {
      "text/plain": [
       "114768"
      ]
     },
     "execution_count": 8,
     "metadata": {},
     "output_type": "execute_result"
    }
   ],
   "source": [
    "train['user_gender_id'].sum()"
   ]
  },
  {
   "cell_type": "markdown",
   "metadata": {},
   "source": [
    "### user_age_level缺失值处理"
   ]
  },
  {
   "cell_type": "code",
   "execution_count": 9,
   "metadata": {},
   "outputs": [
    {
     "name": "stdout",
     "output_type": "stream",
     "text": [
      "instance_id 0\n",
      "item_id 0\n",
      "item_category_list 0\n",
      "item_property_list 0\n",
      "item_brand_id 473\n",
      "item_city_id 277\n",
      "item_price_level 0\n",
      "item_sales_level 913\n",
      "item_collected_level 0\n",
      "item_pv_level 0\n",
      "user_id 0\n",
      "user_gender_id 0\n",
      "user_age_level 964\n",
      "user_occupation_id 964\n",
      "user_star_level 964\n",
      "context_id 0\n",
      "context_timestamp 0\n",
      "context_page_id 0\n",
      "predict_category_property 0\n",
      "shop_id 0\n",
      "shop_review_num_level 0\n",
      "shop_review_positive_rate 7\n",
      "shop_star_level 0\n",
      "shop_score_service 59\n",
      "shop_score_delivery 59\n",
      "shop_score_description 59\n",
      "is_trade 0\n"
     ]
    }
   ],
   "source": [
    "for feature in list(train.columns):\n",
    "    print(feature, (train[feature] == -1).sum())"
   ]
  },
  {
   "cell_type": "code",
   "execution_count": 10,
   "metadata": {},
   "outputs": [
    {
     "data": {
      "text/plain": [
       " 1003    169449\n",
       " 1004    126131\n",
       " 1002     70175\n",
       " 1005     56608\n",
       " 1006     30190\n",
       " 1000     12958\n",
       " 1001      6446\n",
       " 1007      5217\n",
       "-1          964\n",
       "Name: user_age_level, dtype: int64"
      ]
     },
     "execution_count": 10,
     "metadata": {},
     "output_type": "execute_result"
    }
   ],
   "source": [
    "train['user_age_level'].value_counts()"
   ]
  },
  {
   "cell_type": "code",
   "execution_count": 11,
   "metadata": {
    "collapsed": true
   },
   "outputs": [],
   "source": [
    "# 随机填充出现最多的几个数字\n",
    "replace = np.random.choice([1003, 1005], 964, p=[169449/(169449+126131), 126131/(126131+169449)])\n",
    "train.loc[train['user_age_level'] == -1, 'user_age_level'] = replace"
   ]
  },
  {
   "cell_type": "code",
   "execution_count": 12,
   "metadata": {},
   "outputs": [
    {
     "data": {
      "text/plain": [
       "1003    170005\n",
       "1004    126131\n",
       "1002     70175\n",
       "1005     57016\n",
       "1006     30190\n",
       "1000     12958\n",
       "1001      6446\n",
       "1007      5217\n",
       "Name: user_age_level, dtype: int64"
      ]
     },
     "execution_count": 12,
     "metadata": {},
     "output_type": "execute_result"
    }
   ],
   "source": [
    "train['user_age_level'].value_counts()"
   ]
  },
  {
   "cell_type": "markdown",
   "metadata": {},
   "source": [
    "### user_occupation_id缺失值处理"
   ]
  },
  {
   "cell_type": "code",
   "execution_count": 13,
   "metadata": {},
   "outputs": [
    {
     "data": {
      "text/plain": [
       " 2005    300036\n",
       " 2002    146917\n",
       " 2004     23803\n",
       " 2003      6418\n",
       "-1          964\n",
       "Name: user_occupation_id, dtype: int64"
      ]
     },
     "execution_count": 13,
     "metadata": {},
     "output_type": "execute_result"
    }
   ],
   "source": [
    "train['user_occupation_id'].value_counts()"
   ]
  },
  {
   "cell_type": "code",
   "execution_count": 14,
   "metadata": {
    "collapsed": true
   },
   "outputs": [],
   "source": [
    "# 随机填充出现最多的几个数字\n",
    "replace = np.random.choice([2005, 2002], 964, p=[300026/(300026+146917), 146917/(146917+300026)])\n",
    "train.loc[train['user_occupation_id'] == -1, 'user_occupation_id'] = replace"
   ]
  },
  {
   "cell_type": "code",
   "execution_count": 15,
   "metadata": {},
   "outputs": [
    {
     "data": {
      "text/plain": [
       "2005    300706\n",
       "2002    147211\n",
       "2004     23803\n",
       "2003      6418\n",
       "Name: user_occupation_id, dtype: int64"
      ]
     },
     "execution_count": 15,
     "metadata": {},
     "output_type": "execute_result"
    }
   ],
   "source": [
    "train['user_occupation_id'].value_counts()"
   ]
  },
  {
   "cell_type": "markdown",
   "metadata": {},
   "source": [
    "### user_star_level缺失值处理"
   ]
  },
  {
   "cell_type": "code",
   "execution_count": 16,
   "metadata": {},
   "outputs": [
    {
     "data": {
      "text/plain": [
       " 3006    82009\n",
       " 3003    74578\n",
       " 3005    67440\n",
       " 3002    62921\n",
       " 3004    61769\n",
       " 3007    53315\n",
       " 3000    31336\n",
       " 3008    20178\n",
       " 3001    19325\n",
       " 3009     4124\n",
       "-1         964\n",
       " 3010      179\n",
       "Name: user_star_level, dtype: int64"
      ]
     },
     "execution_count": 16,
     "metadata": {},
     "output_type": "execute_result"
    }
   ],
   "source": [
    "train['user_star_level'].value_counts()"
   ]
  },
  {
   "cell_type": "code",
   "execution_count": 17,
   "metadata": {
    "collapsed": true
   },
   "outputs": [],
   "source": [
    "# 随机填充出现最多的几个数字\n",
    "replace = np.random.choice([3006, 3003, 3005, 3002, 3004, 3007], 964, \n",
    "                           p=[82009/402032, 74578/402032, 67440/402032, 62921/402032, 61769/402032, 53315/402032])\n",
    "train.loc[train['user_star_level'] == -1, 'user_star_level'] = replace"
   ]
  },
  {
   "cell_type": "code",
   "execution_count": 18,
   "metadata": {},
   "outputs": [
    {
     "data": {
      "text/plain": [
       "3006    82184\n",
       "3003    74769\n",
       "3005    67609\n",
       "3002    63084\n",
       "3004    61920\n",
       "3007    53430\n",
       "3000    31336\n",
       "3008    20178\n",
       "3001    19325\n",
       "3009     4124\n",
       "3010      179\n",
       "Name: user_star_level, dtype: int64"
      ]
     },
     "execution_count": 18,
     "metadata": {},
     "output_type": "execute_result"
    }
   ],
   "source": [
    "train['user_star_level'].value_counts()"
   ]
  },
  {
   "cell_type": "markdown",
   "metadata": {},
   "source": [
    "### item_brand_id缺失值处理"
   ]
  },
  {
   "cell_type": "code",
   "execution_count": 19,
   "metadata": {},
   "outputs": [
    {
     "data": {
      "text/plain": [
       "7838285046767229711    69746\n",
       "7066302540842412840    13823\n",
       "5051039799137810159    13045\n",
       "448955875785543916     10116\n",
       "739382823914881928      6542\n",
       "6793286343174833903     5280\n",
       "1902568530584691432     4605\n",
       "4609398715869550725     4235\n",
       "6597576831450166037     4216\n",
       "8188723660812005813     3739\n",
       "5818352635473521241     3730\n",
       "3801992748557162347     3474\n",
       "7024713306861377790     3453\n",
       "7166307405309656478     3195\n",
       "3765442984647241130     3178\n",
       "1212158767298395095     3097\n",
       "1842327023449366624     3033\n",
       "5368019250815240955     2990\n",
       "6553461951829665552     2764\n",
       "3884267719846612071     2678\n",
       "3697251094784296011     2645\n",
       "7393038778026345793     2607\n",
       "4940851772115583463     2492\n",
       "2441922225904422164     2456\n",
       "3321064285232298680     2388\n",
       "665010924190078800      2375\n",
       "8036402958319042519     2369\n",
       "6874110308416919683     2347\n",
       "4219436286513843074     2339\n",
       "2707400123518269628     2288\n",
       "                       ...  \n",
       "3095754226004529341        1\n",
       "5454033227514511696        1\n",
       "4688766976726863845        1\n",
       "235459053353583513         1\n",
       "6064808109373642084        1\n",
       "7991867220900340721        1\n",
       "4279627876730571066        1\n",
       "8061459091862288833        1\n",
       "7927126768601045525        1\n",
       "6078791800131392662        1\n",
       "3826455834406003646        1\n",
       "6042349938082523110        1\n",
       "4397257872244335346        1\n",
       "6711571381191498994        1\n",
       "7091383767660014758        1\n",
       "9079227999256126582        1\n",
       "1291502036219803400        1\n",
       "7331360968071710521        1\n",
       "7906646087543004026        1\n",
       "1184195227039843295        1\n",
       "2610179031068642585        1\n",
       "4413068519504185980        1\n",
       "6145077858704446614        1\n",
       "3852648456118423419        1\n",
       "5719274637828952704        1\n",
       "649011438197962804         1\n",
       "7652129664586667369        1\n",
       "5896303189034677982        1\n",
       "2967152924522580025        1\n",
       "7836517907846999124        1\n",
       "Name: item_brand_id, Length: 2055, dtype: int64"
      ]
     },
     "execution_count": 19,
     "metadata": {},
     "output_type": "execute_result"
    }
   ],
   "source": [
    "train['item_brand_id'].value_counts()"
   ]
  },
  {
   "cell_type": "code",
   "execution_count": 20,
   "metadata": {
    "collapsed": true
   },
   "outputs": [],
   "source": [
    "# 填充众数\n",
    "train.loc[train['item_brand_id'] == -1, 'item_brand_id'] = 7838285046767229711"
   ]
  },
  {
   "cell_type": "markdown",
   "metadata": {},
   "source": [
    "### item_city_id处理"
   ]
  },
  {
   "cell_type": "code",
   "execution_count": 21,
   "metadata": {},
   "outputs": [
    {
     "data": {
      "text/plain": [
       "7534238860363577544    154991\n",
       "7322157373578955368     58326\n",
       "3948283326616421003     54472\n",
       "5918626470536001929     34952\n",
       "196257267849351217      30276\n",
       "3122721854741763495     24762\n",
       "1019055478500227370     19701\n",
       "4644954126004286009     18749\n",
       "4918413420989329604     10683\n",
       "6738283504825746594      6877\n",
       "2171543029187596030      5916\n",
       "8240548652619864253      4257\n",
       "3819392654129628501      3921\n",
       "4899814843172066235      3734\n",
       "6652984710464900997      3348\n",
       "9088192369782437159      2938\n",
       "2577951605337750872      2435\n",
       "1548565541085191105      2213\n",
       "2174699138227015967      2186\n",
       "8519578687848277273      2031\n",
       "5326000431362991708      1784\n",
       "8762827044490678569      1778\n",
       "548352491538518780       1770\n",
       "8480550192700287318      1649\n",
       "5161571070109172606      1548\n",
       "8072963182326625214      1385\n",
       "1659868702501373320      1228\n",
       "8774880668563049760      1110\n",
       "739849083029856578       1076\n",
       "3508092439405455063      1063\n",
       "                        ...  \n",
       "4700646804028305048        22\n",
       "7296767819688411871        22\n",
       "4814326104676768998        21\n",
       "6784669248596349924        19\n",
       "333440506879701736         18\n",
       "8969611739750220759        15\n",
       "3660951731540780082        15\n",
       "5241131667453229016        14\n",
       "7968875866014064608        13\n",
       "8933803011128731487        13\n",
       "5884877103856494393        12\n",
       "1608360359484386240        10\n",
       "1409192320340625053         9\n",
       "1114691270281148507         7\n",
       "5727554123450503368         6\n",
       "2477724295733585586         4\n",
       "8835551476805511776         4\n",
       "7566476095478034400         4\n",
       "8084791051540705017         3\n",
       "7604343517846788325         3\n",
       "1661833213317550436         3\n",
       "4228028106931716766         3\n",
       "2708227716133260388         3\n",
       "4571260814718825928         2\n",
       "982582487743860343          2\n",
       "3382300273275090241         2\n",
       "977185943282967113          2\n",
       "4897150163344753705         1\n",
       "3716208830402148560         1\n",
       "8059836771696705787         1\n",
       "Name: item_city_id, Length: 128, dtype: int64"
      ]
     },
     "execution_count": 21,
     "metadata": {},
     "output_type": "execute_result"
    }
   ],
   "source": [
    "train['item_city_id'].value_counts()"
   ]
  },
  {
   "cell_type": "code",
   "execution_count": 22,
   "metadata": {
    "collapsed": true
   },
   "outputs": [],
   "source": [
    "# 填充众数\n",
    "train.loc[train['item_city_id'] == -1, 'item_city_id'] = 7534238860363577544"
   ]
  },
  {
   "cell_type": "markdown",
   "metadata": {},
   "source": [
    "### item_sales_level缺失值处理"
   ]
  },
  {
   "cell_type": "code",
   "execution_count": 23,
   "metadata": {},
   "outputs": [
    {
     "data": {
      "text/plain": [
       " 12    86960\n",
       " 11    80440\n",
       " 13    64451\n",
       " 10    57664\n",
       " 14    44525\n",
       " 9     39638\n",
       " 8     26969\n",
       " 15    22199\n",
       " 7     18030\n",
       " 16    11096\n",
       " 6     11034\n",
       " 5      5739\n",
       " 4      3230\n",
       " 17     1955\n",
       " 3      1844\n",
       " 2       950\n",
       "-1       913\n",
       " 1       501\n",
       "Name: item_sales_level, dtype: int64"
      ]
     },
     "execution_count": 23,
     "metadata": {},
     "output_type": "execute_result"
    }
   ],
   "source": [
    "train['item_sales_level'].value_counts()"
   ]
  },
  {
   "cell_type": "code",
   "execution_count": 24,
   "metadata": {
    "collapsed": true
   },
   "outputs": [],
   "source": [
    "# 随机填充出现最多的几个数字\n",
    "replace = np.random.choice([12,11,13,10], 913, \n",
    "                           p=[86960/289515, 80440/289515, 64451/289515, 57664/289515])\n",
    "train.loc[train['item_sales_level'] == -1, 'item_sales_level'] = replace"
   ]
  },
  {
   "cell_type": "markdown",
   "metadata": {},
   "source": [
    "### shop_review_positive_rate缺失值处理"
   ]
  },
  {
   "cell_type": "code",
   "execution_count": 25,
   "metadata": {},
   "outputs": [
    {
     "data": {
      "text/plain": [
       "1.000000    265926\n",
       "0.997040      1852\n",
       "0.997047      1727\n",
       "0.997043      1691\n",
       "0.997045      1548\n",
       "0.997042      1536\n",
       "0.997042      1521\n",
       "0.997038      1403\n",
       "0.995247       775\n",
       "0.995260       626\n",
       "0.995561       614\n",
       "0.995248       603\n",
       "0.995253       598\n",
       "0.995257       591\n",
       "0.995250       529\n",
       "0.995554       519\n",
       "0.976441       513\n",
       "0.976399       502\n",
       "0.995266       494\n",
       "0.995557       480\n",
       "0.995559       469\n",
       "0.995551       462\n",
       "0.976401       459\n",
       "0.976484       444\n",
       "0.976389       434\n",
       "0.995545       414\n",
       "0.995551       395\n",
       "0.990360       379\n",
       "0.998660       378\n",
       "0.976371       372\n",
       "             ...  \n",
       "0.983165         1\n",
       "0.993978         1\n",
       "0.988902         1\n",
       "0.986966         1\n",
       "0.988016         1\n",
       "0.994490         1\n",
       "0.991582         1\n",
       "0.987334         1\n",
       "0.988003         1\n",
       "0.978729         1\n",
       "0.995800         1\n",
       "0.995282         1\n",
       "0.997640         1\n",
       "0.973488         1\n",
       "0.992171         1\n",
       "0.983242         1\n",
       "0.993947         1\n",
       "0.990311         1\n",
       "0.988451         1\n",
       "0.985236         1\n",
       "0.981623         1\n",
       "0.993129         1\n",
       "0.976216         1\n",
       "0.989268         1\n",
       "0.899696         1\n",
       "0.958684         1\n",
       "0.997556         1\n",
       "0.990201         1\n",
       "0.992942         1\n",
       "0.988771         1\n",
       "Name: shop_review_positive_rate, Length: 11825, dtype: int64"
      ]
     },
     "execution_count": 25,
     "metadata": {},
     "output_type": "execute_result"
    }
   ],
   "source": [
    "train['shop_review_positive_rate'].value_counts()"
   ]
  },
  {
   "cell_type": "code",
   "execution_count": 26,
   "metadata": {
    "collapsed": true
   },
   "outputs": [],
   "source": [
    "# 填充众数\n",
    "train.loc[train['shop_review_positive_rate'] == -1, 'shop_review_positive_rate'] = 1"
   ]
  },
  {
   "cell_type": "markdown",
   "metadata": {},
   "source": [
    "### shop_score_service, shop_score_delivery, shop_score_description缺失值处理"
   ]
  },
  {
   "cell_type": "code",
   "execution_count": 27,
   "metadata": {
    "collapsed": true
   },
   "outputs": [],
   "source": [
    "items = ['shop_score_service', 'shop_score_delivery', 'shop_score_description']"
   ]
  },
  {
   "cell_type": "code",
   "execution_count": 28,
   "metadata": {},
   "outputs": [
    {
     "data": {
      "text/plain": [
       "0.979661    1852\n",
       "0.979805    1727\n",
       "0.960338    1705\n",
       "0.979829    1691\n",
       "0.960368    1620\n",
       "0.979896    1548\n",
       "0.979747    1536\n",
       "0.979743    1521\n",
       "0.960359    1498\n",
       "0.977230    1479\n",
       "0.977219    1450\n",
       "0.977191    1418\n",
       "0.979929    1403\n",
       "0.960368    1361\n",
       "1.000000    1272\n",
       "0.977166    1268\n",
       "0.960331    1259\n",
       "0.960354    1130\n",
       "0.960382    1129\n",
       "0.977122    1055\n",
       "0.978163     982\n",
       "0.977074     928\n",
       "0.977989     887\n",
       "0.978048     882\n",
       "0.979095     775\n",
       "0.978513     758\n",
       "0.977059     755\n",
       "0.978156     748\n",
       "0.978427     728\n",
       "0.978592     725\n",
       "            ... \n",
       "0.981137       1\n",
       "0.985984       1\n",
       "0.971216       1\n",
       "0.964898       1\n",
       "0.923703       1\n",
       "0.958508       1\n",
       "0.979425       1\n",
       "0.967117       1\n",
       "0.988726       1\n",
       "0.962047       1\n",
       "0.982184       1\n",
       "0.960812       1\n",
       "0.976284       1\n",
       "0.977692       1\n",
       "0.964896       1\n",
       "0.894026       1\n",
       "0.985732       1\n",
       "0.966623       1\n",
       "0.974288       1\n",
       "0.978938       1\n",
       "0.970923       1\n",
       "0.963390       1\n",
       "0.995960       1\n",
       "0.949059       1\n",
       "0.951509       1\n",
       "0.970362       1\n",
       "0.972125       1\n",
       "0.984246       1\n",
       "0.980522       1\n",
       "0.977480       1\n",
       "Name: shop_score_service, Length: 16361, dtype: int64"
      ]
     },
     "execution_count": 28,
     "metadata": {},
     "output_type": "execute_result"
    }
   ],
   "source": [
    "train[items[0]].value_counts()"
   ]
  },
  {
   "cell_type": "code",
   "execution_count": 29,
   "metadata": {
    "collapsed": true
   },
   "outputs": [],
   "source": [
    "# 填充平均数\n",
    "shop_service_mean = train.loc[train[items[0]] != -1, items[0]].mean()"
   ]
  },
  {
   "cell_type": "code",
   "execution_count": 30,
   "metadata": {
    "collapsed": true
   },
   "outputs": [],
   "source": [
    "train.loc[train[items[0]] == -1, items[0]] = shop_service_mean"
   ]
  },
  {
   "cell_type": "code",
   "execution_count": 31,
   "metadata": {
    "collapsed": true
   },
   "outputs": [],
   "source": [
    "# 填充平均数\n",
    "shop_delivery_mean = train.loc[train[items[1]] != -1, items[1]].mean()"
   ]
  },
  {
   "cell_type": "code",
   "execution_count": 32,
   "metadata": {
    "collapsed": true
   },
   "outputs": [],
   "source": [
    "train.loc[train[items[1]] == -1, items[1]] = shop_delivery_mean"
   ]
  },
  {
   "cell_type": "code",
   "execution_count": 33,
   "metadata": {
    "collapsed": true
   },
   "outputs": [],
   "source": [
    "# 填充平均数\n",
    "shop_description_mean = train.loc[train[items[2]] != -1, items[2]].mean()"
   ]
  },
  {
   "cell_type": "code",
   "execution_count": 34,
   "metadata": {
    "collapsed": true
   },
   "outputs": [],
   "source": [
    "train.loc[train[items[2]] == -1, items[2]] = shop_description_mean"
   ]
  },
  {
   "cell_type": "markdown",
   "metadata": {},
   "source": [
    "### 所有缺失值填充完毕"
   ]
  },
  {
   "cell_type": "code",
   "execution_count": 35,
   "metadata": {},
   "outputs": [
    {
     "name": "stdout",
     "output_type": "stream",
     "text": [
      "instance_id 0\n",
      "item_id 0\n",
      "item_category_list 0\n",
      "item_property_list 0\n",
      "item_brand_id 0\n",
      "item_city_id 0\n",
      "item_price_level 0\n",
      "item_sales_level 0\n",
      "item_collected_level 0\n",
      "item_pv_level 0\n",
      "user_id 0\n",
      "user_gender_id 0\n",
      "user_age_level 0\n",
      "user_occupation_id 0\n",
      "user_star_level 0\n",
      "context_id 0\n",
      "context_timestamp 0\n",
      "context_page_id 0\n",
      "predict_category_property 0\n",
      "shop_id 0\n",
      "shop_review_num_level 0\n",
      "shop_review_positive_rate 0\n",
      "shop_star_level 0\n",
      "shop_score_service 0\n",
      "shop_score_delivery 0\n",
      "shop_score_description 0\n",
      "is_trade 0\n"
     ]
    }
   ],
   "source": [
    "for feature in list(train.columns):\n",
    "    print(feature, (train[feature] == -1).sum()) #不再有为-1的缺失值"
   ]
  }
 ],
 "metadata": {
  "kernelspec": {
   "display_name": "Python 3",
   "language": "python",
   "name": "python3"
  },
  "language_info": {
   "codemirror_mode": {
    "name": "ipython",
    "version": 3
   },
   "file_extension": ".py",
   "mimetype": "text/x-python",
   "name": "python",
   "nbconvert_exporter": "python",
   "pygments_lexer": "ipython3",
   "version": "3.6.2"
  }
 },
 "nbformat": 4,
 "nbformat_minor": 2
}
