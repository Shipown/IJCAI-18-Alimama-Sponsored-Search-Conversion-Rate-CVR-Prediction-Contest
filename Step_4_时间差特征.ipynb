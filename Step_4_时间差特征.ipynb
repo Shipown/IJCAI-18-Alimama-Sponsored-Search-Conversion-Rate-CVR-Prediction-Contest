{
 "cells": [
  {
   "cell_type": "code",
   "execution_count": null,
   "metadata": {
    "collapsed": true
   },
   "outputs": [],
   "source": [
    "import time\n",
    "import datetime\n",
    "import gc\n",
    "from collections import Counter\n",
    "\n",
    "import pandas as pd\n",
    "import numpy as np"
   ]
  },
  {
   "cell_type": "code",
   "execution_count": null,
   "metadata": {
    "collapsed": true
   },
   "outputs": [],
   "source": [
    "# 读取Step_3处理后的数据\n",
    "data = pd.read_csv('../Temp/train_day_7_test_step_3.csv')"
   ]
  },
  {
   "cell_type": "markdown",
   "metadata": {},
   "source": [
    "### 时间差函数"
   ]
  },
  {
   "cell_type": "code",
   "execution_count": null,
   "metadata": {
    "collapsed": true
   },
   "outputs": [],
   "source": [
    "# 计算本次行为之前已经有了多少次行为(累计特证)\n",
    "def before_click_count(feats, df):\n",
    "    df = df.sort_values(by='context_timestamp').reset_index(drop=True)\n",
    "    name = '_'.join(feat for feat in feats) + '_before_click_count'\n",
    "    df[name] = df.groupby(feats).cumcount().rename(name)\n",
    "    return df\n",
    "\n",
    "# 计算本次行为之后还会有多少次行为(累计特证)\n",
    "def after_click_count(feats, df):\n",
    "    df = df.sort_values(by='context_timestamp').reset_index(drop=True)\n",
    "    name = '_'.join(feat for feat in feats) + '_after_click_count'\n",
    "    df[name] = df.iloc[::-1].groupby(feats).cumcount().rename(name).iloc[::-1]\n",
    "    return df\n",
    "\n",
    "# 计算本次行为距离上次行为的时间\n",
    "def prev_time_diff(feats, df):\n",
    "    df = df.sort_values(by='context_timestamp').reset_index(drop=True)\n",
    "    name = '_'.join(feat for feat in feats) + '_next_time_diff'\n",
    "    df[name] = df['context_timestamp'] - df.groupby(feats)['context_timestamp'].shift(1)\n",
    "    return df\n",
    "\n",
    "# 计算本次行为距离下次行为的时间\n",
    "def next_time_diff(feats, df):\n",
    "    df = df.sort_values(by='context_timestamp').reset_index(drop=True)\n",
    "    name = '_'.join(feat for feat in feats) + '_next_time_diff'\n",
    "    df[name] = df.groupby(feats)['context_timestamp'].shift(-1) - df['context_timestamp']\n",
    "    return df"
   ]
  },
  {
   "cell_type": "code",
   "execution_count": 6,
   "metadata": {
    "collapsed": true
   },
   "outputs": [],
   "source": [
    "# 需要进行时间差计算的特征(同Step_3需要组合统计的特征)\n",
    "feats_list = [\n",
    "    ['user_id'],\n",
    "    ['item_id'],\n",
    "    ['user_id', 'item_id'],\n",
    "    ['shop_id', 'item_id'],\n",
    "    ['user_id', 'shop_id', 'item_id'],\n",
    "    ###################################\n",
    "    ['item_brand_id'],\n",
    "    ['item_city_id'],\n",
    "    ['item_brand_id', 'item_id'],\n",
    "    ['item_city_id', 'item_id'],\n",
    "    ['item_brand_id', 'item_city_id',  'item_id'],\n",
    "    ####################################\n",
    "    ['user_age_level', 'item_id'],\n",
    "    ['user_gender_id', 'item_id'],\n",
    "    ['user_gender_id', 'user_age_level',  'item_id'],\n",
    "    ####################################\n",
    "    ['user_id', 'item_brand_id'],\n",
    "    ['user_id', 'item_city_id'],\n",
    "    ['user_id', 'item_city_id', 'item_brand_id'],\n",
    "    ####################################\n",
    "    ['item_id', 'user_gender_id'],\n",
    "    ['item_id', 'user_occupation_id'],\n",
    "    ['item_id', 'user_gender_id', 'user_occupation_id'],\n",
    "    ####################################\n",
    "    ['item_id', 'context_id'],\n",
    "    ['item_id', 'context_page_id'],\n",
    "    ['item_id', 'context_page_id', 'context_id'],\n",
    "    ####################################\n",
    "    ['item_category_list', 'item_id'],\n",
    "    ['item_property_list', 'item_id'],\n",
    "    ['item_category_list',  'item_property_list', 'item_id'],\n",
    "    ['predict_category_property', 'item_id'],\n",
    "    ['item_category_list', 'predict_category_property', 'item_id'],\n",
    "    ['item_property_list', 'predict_category_property', 'item_id']\n",
    "]"
   ]
  },
  {
   "cell_type": "code",
   "execution_count": null,
   "metadata": {
    "collapsed": true
   },
   "outputs": [],
   "source": [
    "# 时间差函数计算\n",
    "for num, feats in enumerate(feats_list):\n",
    "    print('######  Features {} begin  ######'.format(num))\n",
    "    data = before_click_count(feat, data)\n",
    "    data = after_click_count(feat, data)\n",
    "    data = prev_time_diff(feat, data)\n",
    "    data = next_time_diff(feat, data)\n",
    "    print('######  Features {} end  ######'.format(num))"
   ]
  },
  {
   "cell_type": "code",
   "execution_count": null,
   "metadata": {
    "collapsed": true
   },
   "outputs": [],
   "source": [
    "# 保存该步骤处理后的结果\n",
    "data.to_csv('../Temp/train_day_7_test_step_4.csv', index=False)"
   ]
  }
 ],
 "metadata": {
  "kernelspec": {
   "display_name": "Python 3",
   "language": "python",
   "name": "python3"
  },
  "language_info": {
   "codemirror_mode": {
    "name": "ipython",
    "version": 3
   },
   "file_extension": ".py",
   "mimetype": "text/x-python",
   "name": "python",
   "nbconvert_exporter": "python",
   "pygments_lexer": "ipython3",
   "version": "3.6.2"
  }
 },
 "nbformat": 4,
 "nbformat_minor": 2
}
