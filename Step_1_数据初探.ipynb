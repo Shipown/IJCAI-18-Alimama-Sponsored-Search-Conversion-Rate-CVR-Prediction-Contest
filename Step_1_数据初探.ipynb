{
 "cells": [
  {
   "cell_type": "markdown",
   "metadata": {},
   "source": [
    "### 初赛和复赛过程中，更换了好几次数据，这里以复赛最后一次更换的数据为准"
   ]
  },
  {
   "cell_type": "markdown",
   "metadata": {},
   "source": [
    "**注：原始数据其实是有不少缺失值的，这些缺失值均用-1来表示，初赛时候尝试填充这些缺失值，但是发现性能并没有提升多少，所以在复赛时候就没有对缺失值进行填充了**"
   ]
  },
  {
   "cell_type": "code",
   "execution_count": null,
   "metadata": {
    "collapsed": true
   },
   "outputs": [],
   "source": [
    "import time\n",
    "import datetime\n",
    "import gc\n",
    "from collections import Counter\n",
    "\n",
    "import pandas as pd\n",
    "import numpy as np"
   ]
  },
  {
   "cell_type": "code",
   "execution_count": null,
   "metadata": {
    "collapsed": true
   },
   "outputs": [],
   "source": [
    "# 读入训练和预测集\n",
    "train = pd.read_csv('../Data/round2_train.txt', sep='\\s+')\n",
    "test = pd.read_csv('../Data/round2_ijcai_18_test_b_20180510.txt', sep='\\s+')"
   ]
  },
  {
   "cell_type": "code",
   "execution_count": null,
   "metadata": {
    "collapsed": true
   },
   "outputs": [],
   "source": [
    "# 时间转化\n",
    "def timestamp_datetime(value):\n",
    "    format = '%Y-%m-%d %H:%M:%S'\n",
    "    value = time.localtime(value)\n",
    "    dt = time.strftime(format, value)\n",
    "    return dt\n",
    "\n",
    "def convert_data_time(df):\n",
    "    df['time'] = df.context_timestamp.apply(timestamp_datetime)\n",
    "    df['day'] = df.time.apply(lambda x: int(x[8:10]))\n",
    "    df['hour'] = df.time.apply(lambda x: int(x[11:13]))\n",
    "    return df"
   ]
  },
  {
   "cell_type": "code",
   "execution_count": null,
   "metadata": {
    "collapsed": true
   },
   "outputs": [],
   "source": [
    "train = convert_data_time(train)\n",
    "test = convert_data_time(test)"
   ]
  },
  {
   "cell_type": "code",
   "execution_count": null,
   "metadata": {
    "collapsed": true
   },
   "outputs": [],
   "source": [
    "# 查看训练集的预测集含有哪些天以及每天有多少个样本\n",
    "Counter(train['day'])\n",
    "Counter(test['day'])"
   ]
  },
  {
   "cell_type": "code",
   "execution_count": null,
   "metadata": {
    "collapsed": true
   },
   "outputs": [],
   "source": [
    "# 已知训练集样本的日期是上月的31号到本月的7号，且预测集样本的日期均为7号\n",
    "# 计算训练集每天的商品转化率\n",
    "days = [31, 1, 2, 3, 4, 5, 6, 7]\n",
    "conv_rates = []\n",
    "\n",
    "for day in days:\n",
    "    conv_rate = train[train['day'] == day]['is_trade'].sum() / len(train[train['day'] == day])\n",
    "    conv_rates.append(conv_rate)"
   ]
  },
  {
   "cell_type": "code",
   "execution_count": null,
   "metadata": {
    "collapsed": true
   },
   "outputs": [],
   "source": [
    "# 可见7号转化率猛增,5、6号转化率下降，其余天数转化率较为稳定；\n",
    "# 由此可知7号是较为特殊的日子，结合其转化率猛增的特性，初步判断为双十一这样的日子(日期脱敏，数据集里的日期不代表实际日期)\n",
    "conv_rates "
   ]
  },
  {
   "cell_type": "code",
   "execution_count": null,
   "metadata": {
    "collapsed": true
   },
   "outputs": [],
   "source": [
    "# 7号的训练集样本单独拿出来考虑\n",
    "train_day_7 = train[train['day'] == 7]"
   ]
  },
  {
   "cell_type": "code",
   "execution_count": null,
   "metadata": {
    "collapsed": true
   },
   "outputs": [],
   "source": [
    "# 5号和6号的训练集样本单独拿出来考虑\n",
    "train_day_56 = train[(train['day'] > 4) & (train['day'] < 7)]"
   ]
  },
  {
   "cell_type": "code",
   "execution_count": null,
   "metadata": {
    "collapsed": true
   },
   "outputs": [],
   "source": [
    "# 统计5号和6号用户看了哪些商品\n",
    "item_56 = Counter(train_day_56['item_id'])"
   ]
  },
  {
   "cell_type": "code",
   "execution_count": null,
   "metadata": {
    "collapsed": true
   },
   "outputs": [],
   "source": [
    "# 统计7号用户看了哪些商品\n",
    "item_7 = Counter(train_day_7['item_id'])"
   ]
  },
  {
   "cell_type": "code",
   "execution_count": null,
   "metadata": {
    "collapsed": true
   },
   "outputs": [],
   "source": [
    "# 7号出现的商品有多少在5、6两天出现过\n",
    "# 可见是0.89左右，占比挺大\n",
    "count = 0\n",
    "for item in item_7.keys():\n",
    "    if item in item_56.keys():\n",
    "        count += 1\n",
    "print(count / len(item_7))"
   ]
  },
  {
   "cell_type": "code",
   "execution_count": null,
   "metadata": {
    "collapsed": true
   },
   "outputs": [],
   "source": [
    "# 统计7号成交的有哪些商品\n",
    "item_7_trade = Counter(train_day_7[train_day_7['is_trade'] == 1]['item_id'])"
   ]
  },
  {
   "cell_type": "code",
   "execution_count": null,
   "metadata": {
    "collapsed": true
   },
   "outputs": [],
   "source": [
    "# 7号成交的商品有多少在5、6两天出现过\n",
    "# 可见是0.97左右，占比非常大\n",
    "# 符合日常认知，即双十一这天要买的商品，一般在前两天会选好，然后在双十一这天下单\n",
    "# 也可以解释为什么5号，6号转化率商品转化率下降，毕竟双十一会打折\n",
    "count = 0\n",
    "for item in item_7_trade.keys():\n",
    "    if item in item_56.keys():\n",
    "        count += 1\n",
    "print(count / len(item_7_trade))"
   ]
  },
  {
   "cell_type": "code",
   "execution_count": null,
   "metadata": {
    "collapsed": true
   },
   "outputs": [],
   "source": [
    "# 上面对商品的分析同样可以用来分析用户\n",
    "# 分别统计5,6,7三天出现的用户\n",
    "user_56 = Counter(train_day_56['user_id'])\n",
    "user_7 = Counter(train_day_7['user_id'])"
   ]
  },
  {
   "cell_type": "code",
   "execution_count": null,
   "metadata": {
    "collapsed": true
   },
   "outputs": [],
   "source": [
    "# 统计7号出现的用户有多少在5和6号出现过\n",
    "# 占比不大，说明有些用户在双十一前两天并没有浏览，而选择在双十一当天做活动的时候浏览商品\n",
    "count = 0\n",
    "for user in user_7.keys():\n",
    "    if user in user_56.keys():\n",
    "        count += 1\n",
    "print(count / len(user_7))"
   ]
  },
  {
   "cell_type": "code",
   "execution_count": null,
   "metadata": {
    "collapsed": true
   },
   "outputs": [],
   "source": [
    "# 发生购买行为的用户统计\n",
    "user_7_trade = Counter(train_day_7[train_day_7['is_trade'] == 1]['user_id'])"
   ]
  },
  {
   "cell_type": "code",
   "execution_count": null,
   "metadata": {
    "collapsed": true
   },
   "outputs": [],
   "source": [
    "# 计算这些用户出现在双十一前两天的比例\n",
    "count = 0\n",
    "for user in user_7_trade.keys():\n",
    "    if user in user_56.keys():\n",
    "        count += 1\n",
    "print(count / len(user_7_trade))"
   ]
  },
  {
   "cell_type": "markdown",
   "metadata": {
    "collapsed": true
   },
   "source": [
    "### 总结\n",
    "- 训练集和预测集给出了31号和1到7号这8天的数据样本，其中7号数据的转化率明显大于前几天的数据；\n",
    "- 考虑到7号的转化率和前面日期的转化率有所不同，同时由于自身机器内存不足，只考虑训练集中的7号数据来作为训练集；\n",
    "- 划分数据见 **Step\\_2\\_复赛数据划分**"
   ]
  }
 ],
 "metadata": {
  "kernelspec": {
   "display_name": "Python 3",
   "language": "python",
   "name": "python3"
  },
  "language_info": {
   "codemirror_mode": {
    "name": "ipython",
    "version": 3
   },
   "file_extension": ".py",
   "mimetype": "text/x-python",
   "name": "python",
   "nbconvert_exporter": "python",
   "pygments_lexer": "ipython3",
   "version": "3.6.2"
  }
 },
 "nbformat": 4,
 "nbformat_minor": 2
}
