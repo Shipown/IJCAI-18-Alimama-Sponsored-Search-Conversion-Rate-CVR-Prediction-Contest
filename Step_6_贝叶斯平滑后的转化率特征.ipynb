{
 "cells": [
  {
   "cell_type": "markdown",
   "metadata": {},
   "source": [
    "### 贝叶斯平滑的代码参考：https://github.com/BladeCoda/Tencent2017_Final_Coda_Allegro/blob/master/ZHLsmooth.py"
   ]
  },
  {
   "cell_type": "code",
   "execution_count": 1,
   "metadata": {
    "collapsed": true
   },
   "outputs": [],
   "source": [
    "import time\n",
    "import datetime\n",
    "import gc\n",
    "from collections import Counter\n",
    "\n",
    "import pandas as pd\n",
    "import numpy as np\n",
    "import scipy.special as special"
   ]
  },
  {
   "cell_type": "markdown",
   "metadata": {},
   "source": [
    "为防止过拟合，只考虑**7号之前**的样本的转化率，经试验发现，使用了7号的数据构造转化率特征的时候非常容易**过拟合**，所以这里不用"
   ]
  },
  {
   "cell_type": "code",
   "execution_count": null,
   "metadata": {
    "collapsed": true
   },
   "outputs": [],
   "source": [
    "# 读取Step_1数据分割中存储的整个数据集\n",
    "data = pd.read_csv('../Temp/data.csv')"
   ]
  },
  {
   "cell_type": "code",
   "execution_count": null,
   "metadata": {
    "collapsed": true
   },
   "outputs": [],
   "source": [
    "# 读取Step_5步骤处理的结果\n",
    "train_day_7_test = pd.read_csv('../Temp/train_day_7_test_step_5.csv')"
   ]
  },
  {
   "cell_type": "code",
   "execution_count": null,
   "metadata": {
    "collapsed": true
   },
   "outputs": [],
   "source": [
    "train_before_7 = data[data['day'] != 7]"
   ]
  },
  {
   "cell_type": "code",
   "execution_count": 2,
   "metadata": {
    "collapsed": true
   },
   "outputs": [],
   "source": [
    "# 贝叶斯迭代代码\n",
    "class BayesianSmoothing(object):\n",
    "    def __init__(self, alpha, beta):\n",
    "        self.alpha = alpha\n",
    "        self.beta = beta\n",
    "    def update(self, imps, clks, iter_num, epsilon):\n",
    "        for i in range(iter_num):\n",
    "            new_alpha, new_beta = self.__fixed_point_iteration(imps, clks, self.alpha, self.beta)\n",
    "            if abs(new_alpha - self.alpha) < epsilon and abs(new_beta - self.beta) < epsilon:\n",
    "                break\n",
    "            print(new_alpha, new_beta,i)\n",
    "            self.alpha = new_alpha\n",
    "            self.beta = new_beta\n",
    "\n",
    "    def __fixed_point_iteration(self, imps, clks, alpha, beta):\n",
    "        numerator_alpha = 0.0\n",
    "        numerator_beta = 0.0\n",
    "        denominator = 0.0\n",
    "        for i in range(len(imps)):\n",
    "            numerator_alpha += (special.digamma(clks[i] + alpha) - special.digamma(alpha))\n",
    "            numerator_beta += (special.digamma(imps[i] - clks[i]+beta) - special.digamma(beta))\n",
    "            denominator += (special.digamma(imps[i] + alpha+beta) - special.digamma(alpha+beta))\n",
    "\n",
    "        return alpha * (numerator_alpha / denominator), beta * (numerator_beta / denominator)"
   ]
  },
  {
   "cell_type": "code",
   "execution_count": null,
   "metadata": {
    "collapsed": true
   },
   "outputs": [],
   "source": [
    "# 构建item_id转化率特征\n",
    "item_all_list = list(set(data['item_id'].values))\n",
    "bs = BayesianSmoothing(1, 1)\n",
    "dic_i = dict(Counter(train_before_7['item_id'].values))\n",
    "dic_cov = dict(Counter(train_before_7[train_before_7['is_trade']==1].item_id.values))\n",
    "l = list(set(train_before_7.item_id.values))\n",
    "I = []\n",
    "C = []\n",
    "for item in l:\n",
    "    I.append(dic_i[item]) #该item被浏览了多少次\n",
    "    \n",
    "for item in l:\n",
    "    if item not in dic_cov:\n",
    "        C.append(0)\n",
    "    else:\n",
    "        C.append(dic_cov[item]) #该item成交次数记录\n",
    "        \n",
    "bs.update(I, C, 10000, 0.001)\n",
    "\n",
    "dic_smooth = {}\n",
    "\n",
    "for item in item_all_list:\n",
    "    if item not in dic_i:\n",
    "        dic_smooth[item] = (bs.alpha) / (bs.alpha + bs.beta)\n",
    "    elif item not in dic_cov:\n",
    "        dic_smooth[item] = (bs.alpha) / (dic_i[item] + bs.alpha + bs.beta)\n",
    "    else:\n",
    "        dic_smooth[item] = (dic_cov[item] + bs.alpha) / (dic_i[item] + bs.alpha + bs.beta)\n",
    "        \n",
    "train_day_7_test['item_smooth'] = train_day_7_test['item_id'].map(dic_smooth)"
   ]
  },
  {
   "cell_type": "code",
   "execution_count": null,
   "metadata": {
    "collapsed": true
   },
   "outputs": [],
   "source": [
    "# 构建user_id转化率特征\n",
    "user_all_list = list(set(data['user_id'].values))\n",
    "bs = BayesianSmoothing(1, 1)\n",
    "dic_i = dict(Counter(train_before_7['user_id'].values))\n",
    "dic_cov = dict(Counter(train_before_7[train_before_7['is_trade']==1].user_id.values))\n",
    "l = list(set(train_before_7.user_id.values))\n",
    "I = []\n",
    "C = []\n",
    "\n",
    "for user in l:\n",
    "    I.append(dic_i[user]) \n",
    "    \n",
    "for user in l:\n",
    "    if user not in dic_cov:\n",
    "        C.append(0)\n",
    "    else:\n",
    "        C.append(dic_cov[user]) \n",
    "        \n",
    "bs.update(I, C, 1000, 0.0001)\n",
    "dic_smooth = {}\n",
    "\n",
    "for user in user_all_list:\n",
    "    if user not in dic_i:\n",
    "        dic_smooth[user] = (bs.alpha) / (bs.alpha + bs.beta)\n",
    "    elif user not in dic_cov:\n",
    "        dic_smooth[user] = (bs.alpha) / (dic_i[user] + bs.alpha + bs.beta)\n",
    "    else:\n",
    "        dic_smooth[user] = (dic_cov[user] + bs.alpha) / (dic_i[user] + bs.alpha + bs.beta)\n",
    "        \n",
    "train_day_7_test['user_smooth'] = train_day_7_test['user_id'].map(dic_smooth)"
   ]
  },
  {
   "cell_type": "code",
   "execution_count": null,
   "metadata": {
    "collapsed": true
   },
   "outputs": [],
   "source": [
    "# 构建shop_id转化率特征\n",
    "shop_all_list = list(set(data['shop_id'].values))\n",
    "print(len(shop_all_list))\n",
    "bs = BayesianSmoothing(1, 1)\n",
    "dic_i = dict(Counter(train_before_7['shop_id'].values))\n",
    "print(len(dic_i))\n",
    "dic_cov = dict(Counter(train_before_7[train_before_7['is_trade']==1].shop_id.values))\n",
    "print(len(dic_cov))\n",
    "l = list(set(train_before_7.shop_id.values))\n",
    "\n",
    "I = []\n",
    "C = []\n",
    "\n",
    "for shop in l:\n",
    "    I.append(dic_i[shop]) \n",
    "    \n",
    "for shop in l:\n",
    "    if shop not in dic_cov:\n",
    "        C.append(0)\n",
    "    else:\n",
    "        C.append(dic_cov[shop]) \n",
    "\n",
    "bs.update(I, C, 100000, 0.001)\n",
    "\n",
    "dic_smooth = {}\n",
    "\n",
    "for shop in shop_all_list:\n",
    "    if shop not in dic_i:\n",
    "        dic_smooth[shop] = (bs.alpha) / (bs.alpha + bs.beta)\n",
    "    elif shop not in dic_cov:\n",
    "        dic_smooth[shop] = (bs.alpha) / (dic_i[shop] + bs.alpha + bs.beta)\n",
    "    else:\n",
    "        dic_smooth[shop] = (dic_cov[shop] + bs.alpha) / (dic_i[shop] + bs.alpha + bs.beta)\n",
    "train_day_7_test['shop_smooth'] = train_day_7_test['shop_id'].map(dic_smooth)"
   ]
  },
  {
   "cell_type": "code",
   "execution_count": null,
   "metadata": {
    "collapsed": true
   },
   "outputs": [],
   "source": [
    "# 构建user_gender_id转化率特征\n",
    "user_gender_all_list = list(set(data['user_gender_id'].values))\n",
    "print(len(user_gender_all_list))\n",
    "bs = BayesianSmoothing(1, 1)\n",
    "dic_i = dict(Counter(train_before_7['user_gender_id'].values))\n",
    "print(len(dic_i))\n",
    "dic_cov = dict(Counter(train_before_7[train_before_7['is_trade']==1].user_gender_id.values))\n",
    "print(len(dic_cov))\n",
    "l = list(set(train_before_7.user_gender_id.values))\n",
    "\n",
    "I = []\n",
    "C = []\n",
    "\n",
    "for user_gender in l:\n",
    "    I.append(dic_i[user_gender]) \n",
    "    \n",
    "for user_gender in l:\n",
    "    if user_gender not in dic_cov:\n",
    "        C.append(0)\n",
    "    else:\n",
    "        C.append(dic_cov[user_gender]) \n",
    "        \n",
    "bs.update(I, C, 10000000, 0.000000001)\n",
    "\n",
    "dic_smooth = {}\n",
    "\n",
    "for user_gender in user_gender_all_list:\n",
    "    if user_gender not in dic_i:\n",
    "        dic_smooth[user_gender] = (bs.alpha) / (bs.alpha + bs.beta)\n",
    "    elif user_gender not in dic_cov:\n",
    "        dic_smooth[user_gender] = (bs.alpha) / (dic_i[user_gender] + bs.alpha + bs.beta)\n",
    "    else:\n",
    "        dic_smooth[user_gender] = (dic_cov[user_gender] + bs.alpha) / (dic_i[user_gender] + bs.alpha + bs.beta)\n",
    "        \n",
    "train_day_7_test['user_gender_smooth'] = train_day_7_test['user_gender_id'].map(dic_smooth)"
   ]
  },
  {
   "cell_type": "code",
   "execution_count": null,
   "metadata": {
    "collapsed": true
   },
   "outputs": [],
   "source": [
    "# 构建user_occupation_id转化率特征\n",
    "user_occu_all_list = list(set(data['user_occupation_id'].values))\n",
    "print(len(user_occu_all_list))\n",
    "bs = BayesianSmoothing(1, 1)\n",
    "dic_i = dict(Counter(train_before_7['user_occupation_id'].values))\n",
    "print(len(dic_i))\n",
    "dic_cov = dict(Counter(train_before_7[train_before_7['is_trade']==1].user_occupation_id.values))\n",
    "print(len(dic_cov))\n",
    "l = list(set(train_before_7.user_occupation_id.values))\n",
    "\n",
    "I = []\n",
    "C = []\n",
    "\n",
    "for user_occu in l:\n",
    "    I.append(dic_i[user_occu]) \n",
    "    \n",
    "for user_occu in l:\n",
    "    if user_occu not in dic_cov:\n",
    "        C.append(0)\n",
    "    else:\n",
    "        C.append(dic_cov[user_occu]) \n",
    "bs.update(I, C, 2000000, 0.0001)\n",
    "dic_smooth = {}\n",
    "\n",
    "for user_occu in user_occu_all_list:\n",
    "    if user_occu not in dic_i:\n",
    "        dic_smooth[user_occu] = (bs.alpha) / (bs.alpha + bs.beta)\n",
    "    elif user_occu not in dic_cov:\n",
    "        dic_smooth[user_occu] = (bs.alpha) / (dic_i[user_occu] + bs.alpha + bs.beta)\n",
    "    else:\n",
    "        dic_smooth[user_occu] = (dic_cov[user_occu] + bs.alpha) / (dic_i[user_occu] + bs.alpha + bs.beta)\n",
    "        \n",
    "train_day_7_test['user_occupation_smooth'] = train_day_7_test['user_occupation_id'].map(dic_smooth)"
   ]
  },
  {
   "cell_type": "code",
   "execution_count": null,
   "metadata": {
    "collapsed": true
   },
   "outputs": [],
   "source": [
    "# 构建user_occupation_id转化率特征\n",
    "user_age_all_list = list(set(data['user_age_level'].values))\n",
    "print(len(user_age_all_list))\n",
    "bs = BayesianSmoothing(1, 1)\n",
    "dic_i = dict(Counter(train_before_7['user_age_level'].values))\n",
    "print(len(dic_i))\n",
    "dic_cov = dict(Counter(train_before_7[train_before_7['is_trade']==1].user_age_level.values))\n",
    "print(len(dic_cov))\n",
    "l = list(set(train_before_7.user_age_level.values))\n",
    "\n",
    "I = []\n",
    "C = []\n",
    "\n",
    "for user_age in l:\n",
    "    I.append(dic_i[user_age]) \n",
    "    \n",
    "for user_age in l:\n",
    "    if user_age not in dic_cov:\n",
    "        C.append(0)\n",
    "    else:\n",
    "        C.append(dic_cov[user_age]) \n",
    "bs.update(I, C, 1000000, 0.0001)\n",
    "dic_smooth = {}\n",
    "\n",
    "for user_age in user_age_all_list:\n",
    "    if user_age not in dic_i:\n",
    "        dic_smooth[user_age] = (bs.alpha) / (bs.alpha + bs.beta)\n",
    "    elif user_age not in dic_cov:\n",
    "        dic_smooth[user_age] = (bs.alpha) / (dic_i[user_age] + bs.alpha + bs.beta)\n",
    "    else:\n",
    "        dic_smooth[user_age] = (dic_cov[user_age] + bs.alpha) / (dic_i[user_age] + bs.alpha + bs.beta)\n",
    "        \n",
    "train_day_7_test['user_age_smooth'] = train_day_7_test['user_age_level'].map(dic_smooth)"
   ]
  },
  {
   "cell_type": "code",
   "execution_count": null,
   "metadata": {
    "collapsed": true
   },
   "outputs": [],
   "source": [
    "# 构建item_city_id转化率特征\n",
    "city_all_list = list(set(data['item_city_id'].values))\n",
    "print(len(city_all_list))\n",
    "bs = BayesianSmoothing(1, 1)\n",
    "dic_i = dict(Counter(train_before_7['item_city_id'].values))\n",
    "print(len(dic_i))\n",
    "dic_cov = dict(Counter(train_before_7[train_before_7['is_trade']==1].item_city_id.values))\n",
    "print(len(dic_cov))\n",
    "l = list(set(train_before_7.item_city_id.values))\n",
    "\n",
    "I = []\n",
    "C = []\n",
    "\n",
    "for city in l:\n",
    "    I.append(dic_i[city]) \n",
    "    \n",
    "for city in l:\n",
    "    if city not in dic_cov:\n",
    "        C.append(0)\n",
    "    else:\n",
    "        C.append(dic_cov[city]) \n",
    "        \n",
    "bs.update(I, C, 100000, 0.0001)\n",
    "\n",
    "dic_smooth = {}\n",
    "\n",
    "for city in city_all_list:\n",
    "    if city not in dic_i:\n",
    "        dic_smooth[city] = (bs.alpha) / (bs.alpha + bs.beta)\n",
    "    elif city not in dic_cov:\n",
    "        dic_smooth[city] = (bs.alpha) / (dic_i[city] + bs.alpha + bs.beta)\n",
    "    else:\n",
    "        dic_smooth[city] = (dic_cov[city] + bs.alpha) / (dic_i[city] + bs.alpha + bs.beta)\n",
    "        \n",
    "train_day_7_test['city_smooth'] = train_day_7_test['item_city_id'].map(dic_smooth)"
   ]
  },
  {
   "cell_type": "code",
   "execution_count": null,
   "metadata": {
    "collapsed": true
   },
   "outputs": [],
   "source": [
    "# 构建item_brand_id转化率特征\n",
    "brand_all_list = list(set(data['item_brand_id'].values))\n",
    "print(len(brand_all_list))\n",
    "bs = BayesianSmoothing(1, 1)\n",
    "dic_i = dict(Counter(train_before_7['item_brand_id'].values))\n",
    "print(len(dic_i))\n",
    "dic_cov = dict(Counter(train_before_7[train_before_7['is_trade']==1].item_brand_id.values))\n",
    "print(len(dic_cov))\n",
    "l = list(set(train_before_7.item_brand_id.values))\n",
    "\n",
    "I = []\n",
    "C = []\n",
    "\n",
    "for brand in l:\n",
    "    I.append(dic_i[brand]) \n",
    "    \n",
    "for brand in l:\n",
    "    if brand not in dic_cov:\n",
    "        C.append(0)\n",
    "    else:\n",
    "        C.append(dic_cov[brand]) \n",
    "        \n",
    "bs.update(I, C, 100000, 0.0001)\n",
    "\n",
    "dic_smooth = {}\n",
    "\n",
    "for brand in brand_all_list:\n",
    "    if brand not in dic_i:\n",
    "        dic_smooth[brand] = (bs.alpha) / (bs.alpha + bs.beta)\n",
    "    elif brand not in dic_cov:\n",
    "        dic_smooth[brand] = (bs.alpha) / (dic_i[brand] + bs.alpha + bs.beta)\n",
    "    else:\n",
    "        dic_smooth[brand] = (dic_cov[brand] + bs.alpha) / (dic_i[brand] + bs.alpha + bs.beta)\n",
    "        \n",
    "train_day_7_test['brand_smooth'] = train_day_7_test['item_brand_id'].map(dic_smooth)"
   ]
  },
  {
   "cell_type": "code",
   "execution_count": null,
   "metadata": {
    "collapsed": true
   },
   "outputs": [],
   "source": [
    "# 构建hour转化率特征\n",
    "hour_all_list = list(set(data['hour'].values))\n",
    "print(len(hour_all_list))\n",
    "bs = BayesianSmoothing(1, 1)\n",
    "dic_i = dict(Counter(train_before_7['hour'].values))\n",
    "print(len(dic_i))\n",
    "dic_cov = dict(Counter(train_before_7[train_before_7['is_trade']==1].hour.values))\n",
    "print(len(dic_cov))\n",
    "l = list(set(train_before_7.hour.values))\n",
    "\n",
    "I = []\n",
    "C = []\n",
    "\n",
    "for hour in l:\n",
    "    I.append(dic_i[hour]) \n",
    "    \n",
    "for hour in l:\n",
    "    if hour not in dic_cov:\n",
    "        C.append(0)\n",
    "    else:\n",
    "        C.append(dic_cov[hour]) \n",
    "        \n",
    "bs.update(I, C, 1000000, 0.0001)\n",
    "\n",
    "dic_smooth = {}\n",
    "\n",
    "for hour in hour_all_list:\n",
    "    if hour not in dic_i:\n",
    "        dic_smooth[hour] = (bs.alpha) / (bs.alpha + bs.beta)\n",
    "    elif hour not in dic_cov:\n",
    "        dic_smooth[hour] = (bs.alpha) / (dic_i[hour] + bs.alpha + bs.beta)\n",
    "    else:\n",
    "        dic_smooth[hour] = (dic_cov[hour] + bs.alpha) / (dic_i[hour] + bs.alpha + bs.beta)\n",
    "        \n",
    "train_day_7_test['hour_smooth'] = train_day_7_test['hour'].map(dic_smooth)"
   ]
  },
  {
   "cell_type": "code",
   "execution_count": null,
   "metadata": {
    "collapsed": true
   },
   "outputs": [],
   "source": [
    "# 保存以上处理后的结果\n",
    "train_day_7_test.to_csv('../Temp/train_day_7_test_step_6.csv', index=False)"
   ]
  }
 ],
 "metadata": {
  "kernelspec": {
   "display_name": "Python 3",
   "language": "python",
   "name": "python3"
  },
  "language_info": {
   "codemirror_mode": {
    "name": "ipython",
    "version": 3
   },
   "file_extension": ".py",
   "mimetype": "text/x-python",
   "name": "python",
   "nbconvert_exporter": "python",
   "pygments_lexer": "ipython3",
   "version": "3.6.2"
  }
 },
 "nbformat": 4,
 "nbformat_minor": 2
}
