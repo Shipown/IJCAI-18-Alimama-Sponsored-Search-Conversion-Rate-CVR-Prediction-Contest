{
 "cells": [
  {
   "cell_type": "markdown",
   "metadata": {},
   "source": [
    "### 主要对item_category_list, item_property_list, predict_category_property三个object属性进行处理"
   ]
  },
  {
   "cell_type": "code",
   "execution_count": 1,
   "metadata": {
    "collapsed": true
   },
   "outputs": [],
   "source": [
    "import time\n",
    "import datetime\n",
    "import gc\n",
    "from collections import Counter\n",
    "\n",
    "import pandas as pd\n",
    "import numpy as np"
   ]
  },
  {
   "cell_type": "code",
   "execution_count": null,
   "metadata": {
    "collapsed": true
   },
   "outputs": [],
   "source": [
    "# 读取Step_4处理后的数据\n",
    "data = pd.read_csv('../Temp/train_day_7_test_step_4.csv')"
   ]
  },
  {
   "cell_type": "code",
   "execution_count": null,
   "metadata": {
    "collapsed": true
   },
   "outputs": [],
   "source": [
    "# 从predicte_category_property中提取category和property\n",
    "\n",
    "pred_cate_lists = []\n",
    "pred_prop_lists = []\n",
    "\n",
    "for i in range(len(data)):\n",
    "    pred_cate_list = []\n",
    "    pred_prop_list = []\n",
    "    \n",
    "    if data['predict_category_property'][i] == str(-1):\n",
    "        pred_cate_lists.append('-1')\n",
    "        pred_prop_lists.append('-1')\n",
    "        continue\n",
    "    else:\n",
    "        pred_cate_props = data['predict_category_property'][i].split(';')# 分拆类别属性组\n",
    "    \n",
    "    for pred_cate_prop in pred_cate_props:# 考虑一个类别属性组\n",
    "        pred_cate = pred_cate_prop.split(':')[0]# 提取类别\n",
    "    \n",
    "        if pred_cate not in pred_cate_list:# 只考虑不重复的类别，重复的不计入\n",
    "            pred_cate_list.append(pred_cate)\n",
    "        \n",
    "        pred_props = pred_cate_prop.split(':')[1]\n",
    "        # props外加中括号，否则会拆分一个字符串\n",
    "        for pred_prop in [pred_props]: \n",
    "            if pred_prop not in pred_prop_list:# 只考虑不重复的属性，重复的不计入\n",
    "                pred_prop_list.append(pred_prop)\n",
    "    \n",
    "    pred_cate_lists.append(pred_cate_list)\n",
    "    pred_prop_lists.append(pred_prop_list)"
   ]
  },
  {
   "cell_type": "code",
   "execution_count": null,
   "metadata": {
    "collapsed": true
   },
   "outputs": [],
   "source": [
    "#整理样本的真实类别\n",
    "cate_lists = []\n",
    "\n",
    "for i in range(len(data)):\n",
    "    cate = data['item_category_list'][i].split(';')\n",
    "    cate_lists.append(cate)"
   ]
  },
  {
   "cell_type": "code",
   "execution_count": null,
   "metadata": {
    "collapsed": true
   },
   "outputs": [],
   "source": [
    "#计算预测类别的命中率\n",
    "\n",
    "cate_proportion_list = []\n",
    "for pred_cate, cate in zip(pred_cate_lists, cate_lists):\n",
    "    count = 0\n",
    "    for i in pred_cate:\n",
    "        if i in cate:\n",
    "            count += 1\n",
    "    cate_proportion = count / len(pred_cate)\n",
    "    cate_proportion_list.append(cate_proportion)"
   ]
  },
  {
   "cell_type": "code",
   "execution_count": null,
   "metadata": {
    "collapsed": true
   },
   "outputs": [],
   "source": [
    "#整理样本的真实属性\n",
    "\n",
    "prop_lists = []\n",
    "\n",
    "for i in range(len(data)):\n",
    "    prop = data['item_property_list'][i].split(';')\n",
    "    prop_lists.append(prop)"
   ]
  },
  {
   "cell_type": "code",
   "execution_count": null,
   "metadata": {
    "collapsed": true
   },
   "outputs": [],
   "source": [
    "#计算预测属性的命中率\n",
    "\n",
    "prop_proportion_list = []\n",
    "for pred_prop, prop in zip(pred_prop_lists, prop_lists):\n",
    "    count = 0\n",
    "    for i in pred_prop:\n",
    "        if i in prop:\n",
    "            count += 1\n",
    "    prop_proportion = count / len(pred_prop)\n",
    "    prop_proportion_list.append(prop_proportion)"
   ]
  },
  {
   "cell_type": "code",
   "execution_count": null,
   "metadata": {
    "collapsed": true
   },
   "outputs": [],
   "source": [
    "#把预测属性命中率、预测类别命中率二者同data融合\n",
    "\n",
    "cate_proportion_list = pd.DataFrame(cate_proportion_list).rename(columns={0: 'cate_proportion_list'})\n",
    "cate_proportion_list['instance_id'] = data['instance_id']\n",
    "data = pd.merge(data, cate_proportion_list, how='left', on='instance_id')\n",
    "\n",
    "prop_proportion_list = pd.DataFrame(prop_proportion_list).rename(columns={0: 'prop_proportion_list'})\n",
    "prop_proportion_list['instance_id'] = data.instance_id\n",
    "data = pd.merge(data, prop_proportion_list, how='left', on='instance_id')"
   ]
  },
  {
   "cell_type": "code",
   "execution_count": null,
   "metadata": {
    "collapsed": true
   },
   "outputs": [],
   "source": [
    "# 保存处理后的数据\n",
    "data.to_csv('../Temp/train_day_7_test_step_5.csv', index=False)"
   ]
  }
 ],
 "metadata": {
  "kernelspec": {
   "display_name": "Python 3",
   "language": "python",
   "name": "python3"
  },
  "language_info": {
   "codemirror_mode": {
    "name": "ipython",
    "version": 3
   },
   "file_extension": ".py",
   "mimetype": "text/x-python",
   "name": "python",
   "nbconvert_exporter": "python",
   "pygments_lexer": "ipython3",
   "version": "3.6.2"
  }
 },
 "nbformat": 4,
 "nbformat_minor": 2
}
