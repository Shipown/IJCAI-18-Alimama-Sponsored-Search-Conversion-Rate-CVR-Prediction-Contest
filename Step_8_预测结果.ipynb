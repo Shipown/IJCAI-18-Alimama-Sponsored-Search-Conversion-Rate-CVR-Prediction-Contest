{
 "cells": [
  {
   "cell_type": "markdown",
   "metadata": {},
   "source": [
    "### 由于时间不足和机器落后，本次比赛只用了LightGBM单模型来训练和预测数据"
   ]
  },
  {
   "cell_type": "code",
   "execution_count": null,
   "metadata": {
    "collapsed": true
   },
   "outputs": [],
   "source": [
    "import gc\n",
    "\n",
    "import pandas as pd\n",
    "import numpy as np\n",
    "\n",
    "from sklearn.metrics import log_loss"
   ]
  },
  {
   "cell_type": "code",
   "execution_count": null,
   "metadata": {
    "collapsed": true
   },
   "outputs": [],
   "source": [
    "# 读入Step_6处理后的数据\n",
    "data = pd.read_csv('../Temp/train_day_7_test_step_6.csv')"
   ]
  },
  {
   "cell_type": "code",
   "execution_count": null,
   "metadata": {
    "collapsed": true
   },
   "outputs": [],
   "source": [
    "# 为防止前面的数据处理中打乱了data样本的顺序，现重新排序。(因为预测集一定要在训练集后面，不能乱了)\n",
    "data.sort_values(by=['context_timestamp', 'instance_id'], inplace=True)"
   ]
  },
  {
   "cell_type": "code",
   "execution_count": null,
   "metadata": {
    "collapsed": true
   },
   "outputs": [],
   "source": [
    "# 删除这几个特征\n",
    "drop_features = ['context_id', 'context_timestamp', 'day', 'minute', 'second', 'predict_category_property',\n",
    "                'item_property_list', 'time', 'item_category_list']"
   ]
  },
  {
   "cell_type": "code",
   "execution_count": null,
   "metadata": {
    "collapsed": true
   },
   "outputs": [],
   "source": [
    "# 线下训练\n",
    "# 训练集和验证集划分，因为7号总的训练集是107万，预测集50多万，比例大致是2:1的关系，\n",
    "# 为保持一致，这里划分总的训练集前72万为训练集，后面为验证集\n",
    "train_set = data[:1077175]\n",
    "train_set.drop(drop_features, axis=1, inplace=True)\n",
    "\n",
    "X_train = train_set[:720000]\n",
    "y_train = X_train['is_trade']\n",
    "X_valid = train_set[720000:]\n",
    "y_valid = X_valid['is_trade']\n",
    "\n",
    "del X_train['is_trade']\n",
    "del X_valid['is_trade']\n",
    "gc.collect()"
   ]
  },
  {
   "cell_type": "code",
   "execution_count": null,
   "metadata": {
    "collapsed": true
   },
   "outputs": [],
   "source": [
    "# 模型训练\n",
    "import lightgbm as lgb\n",
    "\n",
    "gbm = lgb.LGBMClassifier(num_leaves=25, max_depth=7, n_estimators=2000, n_jobs=-1, learning_rate=0.05)\n",
    "gbm.fit(X_train, y_train, eval_set=[(X_valid, y_valid), (X_train, y_train)], eval_names=['eval', 'train'], \n",
    "                                    eval_metric='logloss', verbose=True, early_stopping_rounds=20)"
   ]
  },
  {
   "cell_type": "code",
   "execution_count": null,
   "metadata": {
    "collapsed": true
   },
   "outputs": [],
   "source": [
    "# 线上提交\n",
    "# 预测结果\n",
    "test = data[1077175:] # 提取出预测集\n",
    "\n",
    "# 为保证处理后的预测集样本的排列顺序和原来一致，需要重新导入原始预测集数据，按照原来的instance_id进行排序\n",
    "test_b = pd.read_csv('../Data/round2_ijcai_18_test_b_20180510.txt', sep='\\s+')\n",
    "test_instance = pd.DataFrame(test_b['instance_id'])\n",
    "test = pd.merge(test_instance, test, how='left', on='instance_id')\n",
    "test.drop(drop_features, axis=1, inplace=True)\n",
    "\n",
    "# 使用全部训练集进行训练\n",
    "X_train = train_set[:]\n",
    "y_train = X_train['is_trade']\n",
    "\n",
    "del X_train['is_trade']\n",
    "del test['is_trade']\n",
    "del train_set\n",
    "gc.collect()"
   ]
  },
  {
   "cell_type": "code",
   "execution_count": null,
   "metadata": {
    "collapsed": true
   },
   "outputs": [],
   "source": [
    "del data\n",
    "gc.collect()"
   ]
  },
  {
   "cell_type": "code",
   "execution_count": null,
   "metadata": {
    "collapsed": true
   },
   "outputs": [],
   "source": [
    "best_iter = gbm.best_iteration_\n",
    "gbm_test = lgb.LGBMClassifier(num_leaves=25, max_depth=7, n_estimators=best_iter, n_jobs=-1, learning_rate=0.05)\n",
    "gbm_test.fit(X_train, y_train, eval_metric='logloss')\n",
    "y_test_gbm = gbm_test.predict_proba(test)[:, 1]"
   ]
  },
  {
   "cell_type": "code",
   "execution_count": null,
   "metadata": {
    "collapsed": true
   },
   "outputs": [],
   "source": [
    "# 保存预测结果，生成.txt文件提交\n",
    "test_b['predicted_score'] = y_test_gbm\n",
    "test_b[['instance_id', 'predicted_score']].to_csv('../Data/submission.txt', index=False, sep=' ')"
   ]
  }
 ],
 "metadata": {
  "kernelspec": {
   "display_name": "Python 3",
   "language": "python",
   "name": "python3"
  },
  "language_info": {
   "codemirror_mode": {
    "name": "ipython",
    "version": 3
   },
   "file_extension": ".py",
   "mimetype": "text/x-python",
   "name": "python",
   "nbconvert_exporter": "python",
   "pygments_lexer": "ipython3",
   "version": "3.6.2"
  }
 },
 "nbformat": 4,
 "nbformat_minor": 2
}
