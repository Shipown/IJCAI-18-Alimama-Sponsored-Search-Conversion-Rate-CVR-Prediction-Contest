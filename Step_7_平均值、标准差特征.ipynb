{
 "cells": [
  {
   "cell_type": "markdown",
   "metadata": {},
   "source": [
    "### 这个特征最终没有用到，一方面是机器内存不够，另一方面是经测验后对分数的提升帮助不大，这里仅作为记录"
   ]
  },
  {
   "cell_type": "code",
   "execution_count": null,
   "metadata": {
    "collapsed": true
   },
   "outputs": [],
   "source": [
    "import time\n",
    "import datetime\n",
    "import gc\n",
    "from collections import Counter\n",
    "\n",
    "import pandas as pd\n",
    "import numpy as np"
   ]
  },
  {
   "cell_type": "code",
   "execution_count": null,
   "metadata": {
    "collapsed": true
   },
   "outputs": [],
   "source": [
    "# 读取Step_6处理后的结果\n",
    "data = pd.read_csv('../Temp/train_day_7_test_step_6.csv')"
   ]
  },
  {
   "cell_type": "markdown",
   "metadata": {},
   "source": [
    "### 平均值、标准差特征"
   ]
  },
  {
   "cell_type": "code",
   "execution_count": null,
   "metadata": {
    "collapsed": true
   },
   "outputs": [],
   "source": [
    "# 数值替代函数\n",
    "def replace(x, ori, rep):\n",
    "    if x == ori:\n",
    "        x = rep\n",
    "    else:\n",
    "        x = x\n",
    "    return x"
   ]
  },
  {
   "cell_type": "code",
   "execution_count": null,
   "metadata": {
    "collapsed": true
   },
   "outputs": [],
   "source": [
    "# 避免-1对计算的影响，计算平均值和标准差的时候将-1作NaN处理\n",
    "def statistical_value(feats, df):\n",
    "    df[feats[-1]] = df[feats[-1]].apply(lambda x: replace(x, -1, np.NaN))\n",
    "    name = '_'.join(feat for feat in feats) + '_mean'\n",
    "    temp = pd.DataFrame(df.groupby(feats[:-1])[feats[-1]].mean()).reset_index().rename(columns={feats[-1]: name})\n",
    "    df = pd.merge(df, temp, how='left', on=feats[:-1])\n",
    "    name = '_'.join(feat for feat in feats) + '_std'\n",
    "    temp = pd.DataFrame(df.groupby(feats[:-1])[feats[-1]].std()).reset_index().rename(columns={feats[-1]: name})\n",
    "    df = pd.merge(df, temp, how='left', on=feats[:-1]) \n",
    "    return df"
   ]
  },
  {
   "cell_type": "code",
   "execution_count": null,
   "metadata": {
    "collapsed": true
   },
   "outputs": [],
   "source": [
    "# 不同于Step_3,Step_4中的features\n",
    "feats_list = [\n",
    "              ['item_id', 'user_age_level'], \n",
    "              ['item_brand_id', 'item_id', 'user_age_level'],\n",
    "              ['item_city_id', 'item_id', 'user_age_level'], \n",
    "              ['item_city_id', 'item_brand_id' ,'item_id', 'user_age_level'],\n",
    "              ########################################################\n",
    "              ['item_id', 'user_star_level'], \n",
    "              ['item_brand_id', 'item_id', 'user_star_level'],\n",
    "              ['item_city_id', 'item_id', 'user_star_level'], \n",
    "              ['item_city_id', 'item_brand_id' ,'item_id', 'user_star_level'],\n",
    "              ########################################################\n",
    "              ['item_id', 'shop_review_num_level'], \n",
    "              ['item_brand_id', 'item_id', 'shop_review_num_level'],\n",
    "              ['item_city_id', 'item_id', 'shop_review_num_level'],\n",
    "              ['item_city_id', 'item_brand_id' ,'item_id', 'shop_review_num_level'],\n",
    "              #######################################################\n",
    "              ['item_id', 'shop_review_num_level'],\n",
    "              ['item_brand_id', 'item_id', 'shop_review_num_level'],\n",
    "              ['item_city_id', 'item_id', 'shop_review_num_level'],\n",
    "              ['item_city_id', 'item_brand_id' ,'item_id', 'shop_review_num_level'],\n",
    "              #######################################################\n",
    "              ['item_id', 'shop_review_positive_rate'],\n",
    "              ['item_brand_id', 'item_id', 'shop_review_positive_rate'],\n",
    "              ['item_city_id', 'item_id', 'shop_review_positive_rate'],\n",
    "              ['item_city_id', 'item_brand_id' ,'item_id', 'shop_review_positive_rate'],\n",
    "              #######################################################\n",
    "              ['item_id', 'shop_score_delivery'],\n",
    "              ['item_brand_id', 'item_id', 'shop_score_delivery'],\n",
    "              ['item_city_id', 'item_id', 'shop_score_delivery'],\n",
    "              ['item_city_id', 'item_brand_id' ,'item_id', 'shop_score_delivery'], \n",
    "              #######################################################\n",
    "              ['item_id', 'shop_score_description'],\n",
    "              ['item_brand_id', 'item_id', 'shop_score_description'],\n",
    "              ['item_city_id', 'item_id', 'shop_score_description'],\n",
    "              ['item_city_id', 'item_brand_id' ,'item_id', 'shop_score_description'],              \n",
    "              #######################################################\n",
    "              ['item_id', 'shop_score_service'],\n",
    "              ['item_brand_id', 'item_id', 'shop_score_service'],\n",
    "              ['item_city_id', 'item_id', 'shop_score_service'],\n",
    "              ['item_city_id', 'item_brand_id' ,'item_id', 'shop_score_service'],\n",
    "              #######################################################\n",
    "              ['item_id', 'shop_star_level'],\n",
    "              ['item_brand_id', 'item_id', 'shop_star_level'],\n",
    "              ['item_city_id', 'item_id', 'shop_star_level'],\n",
    "              ['item_city_id', 'item_brand_id' ,'item_id', 'shop_star_level'],\n",
    "              ########################################################\n",
    "              ['shop_id', 'item_collected_level'],\n",
    "              ['item_brand_id', 'item_collected_level'],\n",
    "              ['item_city_id', 'item_collected_level'],\n",
    "              ['item_city_id', 'item_brand_id', 'item_collected_level'],\n",
    "              ########################################################\n",
    "              ['shop_id', 'item_pv_level'],\n",
    "              ['item_brand_id', 'item_pv_level'],\n",
    "              ['item_city_id', 'item_pv_level'],\n",
    "              ['item_city_id', 'item_brand_id', 'item_pv_level'],\n",
    "              ########################################################\n",
    "              ['shop_id', 'item_price_level'],\n",
    "              ['item_brand_id', 'item_price_level'],\n",
    "              ['item_city_id', 'item_price_level'],\n",
    "              ['item_city_id', 'item_brand_id', 'item_price_level'], \n",
    "              ########################################################\n",
    "              ['shop_id', 'item_sales_level'],\n",
    "              ['item_brand_id', 'item_sales_level'],\n",
    "              ['item_city_id', 'item_sales_level'],\n",
    "              ['item_city_id', 'item_brand_id', 'item_sales_level'],\n",
    "             ]            "
   ]
  },
  {
   "cell_type": "code",
   "execution_count": null,
   "metadata": {
    "collapsed": true
   },
   "outputs": [],
   "source": [
    "for num, feats in enumerate(feats_list):\n",
    "    data = statistical_value(feats, data)\n",
    "    print(feats)\n",
    "    print('Features {} done!'.format(num))\n",
    "    print('#' * 60)"
   ]
  },
  {
   "cell_type": "code",
   "execution_count": null,
   "metadata": {
    "collapsed": true
   },
   "outputs": [],
   "source": [
    "# 重新把NaN填充回-1\n",
    "data = data.fillna(-1)"
   ]
  },
  {
   "cell_type": "code",
   "execution_count": null,
   "metadata": {
    "collapsed": true
   },
   "outputs": [],
   "source": [
    "data.to_csv('../Temp/train_day_7_test_step_7.csv', index=False)"
   ]
  }
 ],
 "metadata": {
  "kernelspec": {
   "display_name": "Python 3",
   "language": "python",
   "name": "python3"
  },
  "language_info": {
   "codemirror_mode": {
    "name": "ipython",
    "version": 3
   },
   "file_extension": ".py",
   "mimetype": "text/x-python",
   "name": "python",
   "nbconvert_exporter": "python",
   "pygments_lexer": "ipython3",
   "version": "3.6.2"
  }
 },
 "nbformat": 4,
 "nbformat_minor": 2
}
